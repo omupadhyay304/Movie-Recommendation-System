{
 "cells": [
  {
   "cell_type": "markdown",
   "id": "0417dd7a-7361-4295-86b0-997331555ff8",
   "metadata": {},
   "source": [
    "****\n",
    "**IMPORTING USEFUL LIBRARIES**\n",
    "****"
   ]
  },
  {
   "cell_type": "code",
   "execution_count": 1,
   "id": "05a3aad7-1b40-4ced-8aae-913a0c0b4f5e",
   "metadata": {},
   "outputs": [],
   "source": [
    "import numpy as np\n",
    "import pandas as pd"
   ]
  },
  {
   "cell_type": "markdown",
   "id": "7e181c6c-348f-429e-b408-23f42e7649ba",
   "metadata": {},
   "source": [
    "****\n",
    "**LOADING DATASETS**\n",
    "****"
   ]
  },
  {
   "cell_type": "code",
   "execution_count": 2,
   "id": "122bad02-a390-48ca-b100-bea043bb947a",
   "metadata": {},
   "outputs": [
    {
     "data": {
      "text/html": [
       "<div>\n",
       "<style scoped>\n",
       "    .dataframe tbody tr th:only-of-type {\n",
       "        vertical-align: middle;\n",
       "    }\n",
       "\n",
       "    .dataframe tbody tr th {\n",
       "        vertical-align: top;\n",
       "    }\n",
       "\n",
       "    .dataframe thead th {\n",
       "        text-align: right;\n",
       "    }\n",
       "</style>\n",
       "<table border=\"1\" class=\"dataframe\">\n",
       "  <thead>\n",
       "    <tr style=\"text-align: right;\">\n",
       "      <th></th>\n",
       "      <th>movieId</th>\n",
       "      <th>title</th>\n",
       "      <th>genres</th>\n",
       "    </tr>\n",
       "  </thead>\n",
       "  <tbody>\n",
       "    <tr>\n",
       "      <th>0</th>\n",
       "      <td>1</td>\n",
       "      <td>Toy Story (1995)</td>\n",
       "      <td>Adventure|Animation|Children|Comedy|Fantasy</td>\n",
       "    </tr>\n",
       "    <tr>\n",
       "      <th>1</th>\n",
       "      <td>2</td>\n",
       "      <td>Jumanji (1995)</td>\n",
       "      <td>Adventure|Children|Fantasy</td>\n",
       "    </tr>\n",
       "    <tr>\n",
       "      <th>2</th>\n",
       "      <td>3</td>\n",
       "      <td>Grumpier Old Men (1995)</td>\n",
       "      <td>Comedy|Romance</td>\n",
       "    </tr>\n",
       "    <tr>\n",
       "      <th>3</th>\n",
       "      <td>4</td>\n",
       "      <td>Waiting to Exhale (1995)</td>\n",
       "      <td>Comedy|Drama|Romance</td>\n",
       "    </tr>\n",
       "    <tr>\n",
       "      <th>4</th>\n",
       "      <td>5</td>\n",
       "      <td>Father of the Bride Part II (1995)</td>\n",
       "      <td>Comedy</td>\n",
       "    </tr>\n",
       "  </tbody>\n",
       "</table>\n",
       "</div>"
      ],
      "text/plain": [
       "   movieId                               title  \\\n",
       "0        1                    Toy Story (1995)   \n",
       "1        2                      Jumanji (1995)   \n",
       "2        3             Grumpier Old Men (1995)   \n",
       "3        4            Waiting to Exhale (1995)   \n",
       "4        5  Father of the Bride Part II (1995)   \n",
       "\n",
       "                                        genres  \n",
       "0  Adventure|Animation|Children|Comedy|Fantasy  \n",
       "1                   Adventure|Children|Fantasy  \n",
       "2                               Comedy|Romance  \n",
       "3                         Comedy|Drama|Romance  \n",
       "4                                       Comedy  "
      ]
     },
     "execution_count": 2,
     "metadata": {},
     "output_type": "execute_result"
    }
   ],
   "source": [
    "#loading movies.csv\n",
    "\n",
    "movies = pd.read_csv('Resources/movies.csv')\n",
    "movies.head()"
   ]
  },
  {
   "cell_type": "code",
   "execution_count": 3,
   "id": "8a9edc39-d597-422c-a33b-8bd1d15515d2",
   "metadata": {},
   "outputs": [
    {
     "data": {
      "text/html": [
       "<div>\n",
       "<style scoped>\n",
       "    .dataframe tbody tr th:only-of-type {\n",
       "        vertical-align: middle;\n",
       "    }\n",
       "\n",
       "    .dataframe tbody tr th {\n",
       "        vertical-align: top;\n",
       "    }\n",
       "\n",
       "    .dataframe thead th {\n",
       "        text-align: right;\n",
       "    }\n",
       "</style>\n",
       "<table border=\"1\" class=\"dataframe\">\n",
       "  <thead>\n",
       "    <tr style=\"text-align: right;\">\n",
       "      <th></th>\n",
       "      <th>userId</th>\n",
       "      <th>movieId</th>\n",
       "      <th>rating</th>\n",
       "      <th>timestamp</th>\n",
       "    </tr>\n",
       "  </thead>\n",
       "  <tbody>\n",
       "    <tr>\n",
       "      <th>0</th>\n",
       "      <td>1</td>\n",
       "      <td>17</td>\n",
       "      <td>4.0</td>\n",
       "      <td>944249077</td>\n",
       "    </tr>\n",
       "    <tr>\n",
       "      <th>1</th>\n",
       "      <td>1</td>\n",
       "      <td>25</td>\n",
       "      <td>1.0</td>\n",
       "      <td>944250228</td>\n",
       "    </tr>\n",
       "    <tr>\n",
       "      <th>2</th>\n",
       "      <td>1</td>\n",
       "      <td>29</td>\n",
       "      <td>2.0</td>\n",
       "      <td>943230976</td>\n",
       "    </tr>\n",
       "    <tr>\n",
       "      <th>3</th>\n",
       "      <td>1</td>\n",
       "      <td>30</td>\n",
       "      <td>5.0</td>\n",
       "      <td>944249077</td>\n",
       "    </tr>\n",
       "    <tr>\n",
       "      <th>4</th>\n",
       "      <td>1</td>\n",
       "      <td>32</td>\n",
       "      <td>5.0</td>\n",
       "      <td>943228858</td>\n",
       "    </tr>\n",
       "  </tbody>\n",
       "</table>\n",
       "</div>"
      ],
      "text/plain": [
       "   userId  movieId  rating  timestamp\n",
       "0       1       17     4.0  944249077\n",
       "1       1       25     1.0  944250228\n",
       "2       1       29     2.0  943230976\n",
       "3       1       30     5.0  944249077\n",
       "4       1       32     5.0  943228858"
      ]
     },
     "execution_count": 3,
     "metadata": {},
     "output_type": "execute_result"
    }
   ],
   "source": [
    "#loading ratings.csv\n",
    "\n",
    "ratings = pd.read_csv('Resources/ratings.csv')\n",
    "ratings.head()"
   ]
  },
  {
   "cell_type": "markdown",
   "id": "8245fbc9-1c57-47fe-8d35-001f3fcf1128",
   "metadata": {},
   "source": [
    "****\n",
    "**PREPROCESSING**\n",
    "****"
   ]
  },
  {
   "cell_type": "code",
   "execution_count": 4,
   "id": "0a15ab67-1138-4c29-9b67-50b0bb747d26",
   "metadata": {},
   "outputs": [
    {
     "data": {
      "text/plain": [
       "(87585, 3)"
      ]
     },
     "execution_count": 4,
     "metadata": {},
     "output_type": "execute_result"
    }
   ],
   "source": [
    "movies.shape"
   ]
  },
  {
   "cell_type": "code",
   "execution_count": 5,
   "id": "3f0259a4-dc1a-43b8-97b5-95145ba50a74",
   "metadata": {},
   "outputs": [
    {
     "data": {
      "text/plain": [
       "movieId    0\n",
       "title      0\n",
       "genres     0\n",
       "dtype: int64"
      ]
     },
     "execution_count": 5,
     "metadata": {},
     "output_type": "execute_result"
    }
   ],
   "source": [
    "movies.isna().sum()"
   ]
  },
  {
   "cell_type": "code",
   "execution_count": 6,
   "id": "c9911a09-c82d-41c3-8244-2c44302b3d5f",
   "metadata": {},
   "outputs": [],
   "source": [
    "#cleaning the title column in movies dataframe by removing any characters that are not alphanumeic or spaces.\n",
    "\n",
    "import re\n",
    "\n",
    "def clean_title(title):\n",
    "    return re.sub(\"[^a-zA-Z0-9 ]\",\"\",title)"
   ]
  },
  {
   "cell_type": "code",
   "execution_count": 7,
   "id": "e2ad0fb0-2c9b-4921-9c4d-765319738495",
   "metadata": {},
   "outputs": [],
   "source": [
    "#cleaning the genres column in movies df by removing \"|\" pipe character.\n",
    "\n",
    "movies['genres_list'] = movies['genres'].str.replace('|' , ' ')\n",
    "movies['clean_title'] = movies['title'].apply(clean_title)"
   ]
  },
  {
   "cell_type": "code",
   "execution_count": 8,
   "id": "067b0ac5-d2cb-4b4f-bf40-2a0a9be03530",
   "metadata": {},
   "outputs": [
    {
     "data": {
      "text/html": [
       "<div>\n",
       "<style scoped>\n",
       "    .dataframe tbody tr th:only-of-type {\n",
       "        vertical-align: middle;\n",
       "    }\n",
       "\n",
       "    .dataframe tbody tr th {\n",
       "        vertical-align: top;\n",
       "    }\n",
       "\n",
       "    .dataframe thead th {\n",
       "        text-align: right;\n",
       "    }\n",
       "</style>\n",
       "<table border=\"1\" class=\"dataframe\">\n",
       "  <thead>\n",
       "    <tr style=\"text-align: right;\">\n",
       "      <th></th>\n",
       "      <th>movieId</th>\n",
       "      <th>clean_title</th>\n",
       "      <th>genres_list</th>\n",
       "    </tr>\n",
       "  </thead>\n",
       "  <tbody>\n",
       "    <tr>\n",
       "      <th>0</th>\n",
       "      <td>1</td>\n",
       "      <td>Toy Story 1995</td>\n",
       "      <td>Adventure Animation Children Comedy Fantasy</td>\n",
       "    </tr>\n",
       "    <tr>\n",
       "      <th>1</th>\n",
       "      <td>2</td>\n",
       "      <td>Jumanji 1995</td>\n",
       "      <td>Adventure Children Fantasy</td>\n",
       "    </tr>\n",
       "    <tr>\n",
       "      <th>2</th>\n",
       "      <td>3</td>\n",
       "      <td>Grumpier Old Men 1995</td>\n",
       "      <td>Comedy Romance</td>\n",
       "    </tr>\n",
       "    <tr>\n",
       "      <th>3</th>\n",
       "      <td>4</td>\n",
       "      <td>Waiting to Exhale 1995</td>\n",
       "      <td>Comedy Drama Romance</td>\n",
       "    </tr>\n",
       "    <tr>\n",
       "      <th>4</th>\n",
       "      <td>5</td>\n",
       "      <td>Father of the Bride Part II 1995</td>\n",
       "      <td>Comedy</td>\n",
       "    </tr>\n",
       "  </tbody>\n",
       "</table>\n",
       "</div>"
      ],
      "text/plain": [
       "   movieId                       clean_title  \\\n",
       "0        1                    Toy Story 1995   \n",
       "1        2                      Jumanji 1995   \n",
       "2        3             Grumpier Old Men 1995   \n",
       "3        4            Waiting to Exhale 1995   \n",
       "4        5  Father of the Bride Part II 1995   \n",
       "\n",
       "                                   genres_list  \n",
       "0  Adventure Animation Children Comedy Fantasy  \n",
       "1                   Adventure Children Fantasy  \n",
       "2                               Comedy Romance  \n",
       "3                         Comedy Drama Romance  \n",
       "4                                       Comedy  "
      ]
     },
     "execution_count": 8,
     "metadata": {},
     "output_type": "execute_result"
    }
   ],
   "source": [
    "movies_data = movies[['movieId' , 'clean_title' , 'genres_list']]\n",
    "movies_data.head()"
   ]
  },
  {
   "cell_type": "code",
   "execution_count": 9,
   "id": "9054747e-d19a-4164-8e3c-dd2b81591c3e",
   "metadata": {},
   "outputs": [
    {
     "data": {
      "text/plain": [
       "(32000204, 4)"
      ]
     },
     "execution_count": 9,
     "metadata": {},
     "output_type": "execute_result"
    }
   ],
   "source": [
    "ratings.shape"
   ]
  },
  {
   "cell_type": "code",
   "execution_count": 10,
   "id": "fbe29879-058d-4922-a435-946e23171103",
   "metadata": {},
   "outputs": [
    {
     "data": {
      "text/plain": [
       "userId       0\n",
       "movieId      0\n",
       "rating       0\n",
       "timestamp    0\n",
       "dtype: int64"
      ]
     },
     "execution_count": 10,
     "metadata": {},
     "output_type": "execute_result"
    }
   ],
   "source": [
    "ratings.isna().sum()"
   ]
  },
  {
   "cell_type": "code",
   "execution_count": 11,
   "id": "a36edf30-ff5b-489d-b7f7-77ce27798a1b",
   "metadata": {},
   "outputs": [
    {
     "data": {
      "text/html": [
       "<div>\n",
       "<style scoped>\n",
       "    .dataframe tbody tr th:only-of-type {\n",
       "        vertical-align: middle;\n",
       "    }\n",
       "\n",
       "    .dataframe tbody tr th {\n",
       "        vertical-align: top;\n",
       "    }\n",
       "\n",
       "    .dataframe thead th {\n",
       "        text-align: right;\n",
       "    }\n",
       "</style>\n",
       "<table border=\"1\" class=\"dataframe\">\n",
       "  <thead>\n",
       "    <tr style=\"text-align: right;\">\n",
       "      <th></th>\n",
       "      <th>userId</th>\n",
       "      <th>movieId</th>\n",
       "      <th>rating</th>\n",
       "    </tr>\n",
       "  </thead>\n",
       "  <tbody>\n",
       "    <tr>\n",
       "      <th>0</th>\n",
       "      <td>1</td>\n",
       "      <td>17</td>\n",
       "      <td>4.0</td>\n",
       "    </tr>\n",
       "    <tr>\n",
       "      <th>1</th>\n",
       "      <td>1</td>\n",
       "      <td>25</td>\n",
       "      <td>1.0</td>\n",
       "    </tr>\n",
       "    <tr>\n",
       "      <th>2</th>\n",
       "      <td>1</td>\n",
       "      <td>29</td>\n",
       "      <td>2.0</td>\n",
       "    </tr>\n",
       "    <tr>\n",
       "      <th>3</th>\n",
       "      <td>1</td>\n",
       "      <td>30</td>\n",
       "      <td>5.0</td>\n",
       "    </tr>\n",
       "    <tr>\n",
       "      <th>4</th>\n",
       "      <td>1</td>\n",
       "      <td>32</td>\n",
       "      <td>5.0</td>\n",
       "    </tr>\n",
       "  </tbody>\n",
       "</table>\n",
       "</div>"
      ],
      "text/plain": [
       "   userId  movieId  rating\n",
       "0       1       17     4.0\n",
       "1       1       25     1.0\n",
       "2       1       29     2.0\n",
       "3       1       30     5.0\n",
       "4       1       32     5.0"
      ]
     },
     "execution_count": 11,
     "metadata": {},
     "output_type": "execute_result"
    }
   ],
   "source": [
    "#as timestamps do not provide much helpful information in a movie recommendation system, we drop it.\n",
    "\n",
    "ratings_data = ratings.drop(['timestamp'] , axis = 1)\n",
    "ratings_data.head()"
   ]
  },
  {
   "cell_type": "code",
   "execution_count": 12,
   "id": "e3d03038-f522-4cfe-a60e-cc16d6d173d4",
   "metadata": {},
   "outputs": [
    {
     "data": {
      "text/html": [
       "<div>\n",
       "<style scoped>\n",
       "    .dataframe tbody tr th:only-of-type {\n",
       "        vertical-align: middle;\n",
       "    }\n",
       "\n",
       "    .dataframe tbody tr th {\n",
       "        vertical-align: top;\n",
       "    }\n",
       "\n",
       "    .dataframe thead th {\n",
       "        text-align: right;\n",
       "    }\n",
       "</style>\n",
       "<table border=\"1\" class=\"dataframe\">\n",
       "  <thead>\n",
       "    <tr style=\"text-align: right;\">\n",
       "      <th></th>\n",
       "      <th>userId</th>\n",
       "      <th>movieId</th>\n",
       "      <th>rating</th>\n",
       "      <th>clean_title</th>\n",
       "      <th>genres_list</th>\n",
       "    </tr>\n",
       "  </thead>\n",
       "  <tbody>\n",
       "    <tr>\n",
       "      <th>0</th>\n",
       "      <td>1</td>\n",
       "      <td>17</td>\n",
       "      <td>4.0</td>\n",
       "      <td>Sense and Sensibility 1995</td>\n",
       "      <td>Drama Romance</td>\n",
       "    </tr>\n",
       "    <tr>\n",
       "      <th>1</th>\n",
       "      <td>1</td>\n",
       "      <td>25</td>\n",
       "      <td>1.0</td>\n",
       "      <td>Leaving Las Vegas 1995</td>\n",
       "      <td>Drama Romance</td>\n",
       "    </tr>\n",
       "    <tr>\n",
       "      <th>2</th>\n",
       "      <td>1</td>\n",
       "      <td>29</td>\n",
       "      <td>2.0</td>\n",
       "      <td>City of Lost Children The Cit des enfants perd...</td>\n",
       "      <td>Adventure Drama Fantasy Mystery Sci-Fi</td>\n",
       "    </tr>\n",
       "    <tr>\n",
       "      <th>3</th>\n",
       "      <td>1</td>\n",
       "      <td>30</td>\n",
       "      <td>5.0</td>\n",
       "      <td>Shanghai Triad Yao a yao yao dao waipo qiao 1995</td>\n",
       "      <td>Crime Drama</td>\n",
       "    </tr>\n",
       "    <tr>\n",
       "      <th>4</th>\n",
       "      <td>1</td>\n",
       "      <td>32</td>\n",
       "      <td>5.0</td>\n",
       "      <td>Twelve Monkeys aka 12 Monkeys 1995</td>\n",
       "      <td>Mystery Sci-Fi Thriller</td>\n",
       "    </tr>\n",
       "  </tbody>\n",
       "</table>\n",
       "</div>"
      ],
      "text/plain": [
       "   userId  movieId  rating                                        clean_title  \\\n",
       "0       1       17     4.0                         Sense and Sensibility 1995   \n",
       "1       1       25     1.0                             Leaving Las Vegas 1995   \n",
       "2       1       29     2.0  City of Lost Children The Cit des enfants perd...   \n",
       "3       1       30     5.0   Shanghai Triad Yao a yao yao dao waipo qiao 1995   \n",
       "4       1       32     5.0                 Twelve Monkeys aka 12 Monkeys 1995   \n",
       "\n",
       "                              genres_list  \n",
       "0                           Drama Romance  \n",
       "1                           Drama Romance  \n",
       "2  Adventure Drama Fantasy Mystery Sci-Fi  \n",
       "3                             Crime Drama  \n",
       "4                 Mystery Sci-Fi Thriller  "
      ]
     },
     "execution_count": 12,
     "metadata": {},
     "output_type": "execute_result"
    }
   ],
   "source": [
    "final_data = pd.merge(ratings_data , movies_data , on = 'movieId')\n",
    "final_data.head()"
   ]
  },
  {
   "cell_type": "code",
   "execution_count": 13,
   "id": "51ec1fe7-64b5-4c72-ac93-476093505bef",
   "metadata": {},
   "outputs": [
    {
     "data": {
      "text/plain": [
       "(32000204, 5)"
      ]
     },
     "execution_count": 13,
     "metadata": {},
     "output_type": "execute_result"
    }
   ],
   "source": [
    "final_data.shape"
   ]
  },
  {
   "cell_type": "code",
   "execution_count": 14,
   "id": "1ac58c5d-4a23-4d68-ba14-0e17c6fb0ffa",
   "metadata": {},
   "outputs": [
    {
     "data": {
      "text/plain": [
       "userId         0\n",
       "movieId        0\n",
       "rating         0\n",
       "clean_title    0\n",
       "genres_list    0\n",
       "dtype: int64"
      ]
     },
     "execution_count": 14,
     "metadata": {},
     "output_type": "execute_result"
    }
   ],
   "source": [
    "final_data.isna().sum()"
   ]
  },
  {
   "cell_type": "markdown",
   "id": "a32eb4f1-d72e-4e8f-8029-23363b274f34",
   "metadata": {},
   "source": [
    "****\n",
    "**DEFINING SEARCH FUNCTION**\n",
    "****"
   ]
  },
  {
   "cell_type": "code",
   "execution_count": 15,
   "id": "230643d4-90f2-4291-b25a-f9013e265c47",
   "metadata": {},
   "outputs": [
    {
     "name": "stdout",
     "output_type": "stream",
     "text": [
      "       movieId               clean_title  \\\n",
      "3021      3114          Toy Story 2 1999   \n",
      "14815    78499          Toy Story 3 2010   \n",
      "60708   201588          Toy Story 4 2019   \n",
      "0            1            Toy Story 1995   \n",
      "20505   106022  Toy Story of Terror 2013   \n",
      "\n",
      "                                            genres_list  \n",
      "3021        Adventure Animation Children Comedy Fantasy  \n",
      "14815  Adventure Animation Children Comedy Fantasy IMAX  \n",
      "60708               Adventure Animation Children Comedy  \n",
      "0           Adventure Animation Children Comedy Fantasy  \n",
      "20505                         Animation Children Comedy  \n"
     ]
    }
   ],
   "source": [
    "#searching for top n movies with similar title\n",
    "\n",
    "from sklearn.feature_extraction.text import TfidfVectorizer\n",
    "from sklearn.metrics.pairwise import cosine_similarity\n",
    "\n",
    "vectorizer_title = TfidfVectorizer(ngram_range=(1,2))\n",
    "tfidf_title = vectorizer_title.fit_transform(movies_data['clean_title'])\n",
    "\n",
    "def search_by_title(title):\n",
    "    title = clean_title(title)\n",
    "    query_vec = vectorizer_title.transform([title])\n",
    "    similarity = cosine_similarity(query_vec, tfidf_title).flatten()\n",
    "    indices = np.argpartition(similarity, -5)[-5:]\n",
    "    results = movies_data.iloc[indices][::-1]\n",
    "    return results\n",
    "\n",
    "movie_results = search_by_title(\"Toy Story\")\n",
    "print(movie_results)\n"
   ]
  },
  {
   "cell_type": "code",
   "execution_count": 16,
   "id": "45b39f3b-9245-41c9-a78a-594d867ef0b4",
   "metadata": {},
   "outputs": [
    {
     "name": "stdout",
     "output_type": "stream",
     "text": [
      "       movieId                        clean_title       genres_list\n",
      "72368   234267              A Dangerous Game 1941  Adventure Comedy\n",
      "65077   211808              Seawards Journey 2003  Adventure Comedy\n",
      "39425   156350                 Give Us Wings 1940  Adventure Comedy\n",
      "9014     26827  Leningrad Cowboys Meet Moses 1994  Adventure Comedy\n",
      "11353    50798                    Epic Movie 2007  Adventure Comedy\n",
      "69704   224519                Brutus Vs Csar 2020  Adventure Comedy\n",
      "34678   145358                       Zenabel 1969  Adventure Comedy\n",
      "84048   281134                  Mud and Sand 1922  Adventure Comedy\n",
      "30569   136208                         Noobz 2013  Adventure Comedy\n",
      "25709   124232          The Fuller Brush Man 1948  Adventure Comedy\n"
     ]
    }
   ],
   "source": [
    "#searching for top n movies with similar genre\n",
    "\n",
    "vectorizer_genres = TfidfVectorizer(ngram_range=(1,2))\n",
    "tfidf_genres = vectorizer_genres.fit_transform(movies_data['genres_list'])\n",
    "\n",
    "def search_similar_genres(genres):\n",
    "    query_vec = vectorizer_genres.transform([genres])\n",
    "    similarity = cosine_similarity(query_vec, tfidf_genres).flatten()\n",
    "    indices = np.argpartition(similarity, -10)[-10:]\n",
    "    results = movies_data.iloc[indices][::-1]\n",
    "    return results\n",
    "\n",
    "gen = 'Adventure Comedy'\n",
    "print(search_similar_genres(gen))"
   ]
  },
  {
   "cell_type": "markdown",
   "id": "cbebef6b-e0fb-453f-a2ee-7dcd0504894e",
   "metadata": {},
   "source": [
    "****\n",
    "**MAKING THE RECOMMENDATION**\n",
    "****"
   ]
  },
  {
   "cell_type": "code",
   "execution_count": 17,
   "id": "8784b125-96cb-4e2c-8fc6-0261c8f6ffb8",
   "metadata": {},
   "outputs": [
    {
     "data": {
      "text/html": [
       "<div>\n",
       "<style scoped>\n",
       "    .dataframe tbody tr th:only-of-type {\n",
       "        vertical-align: middle;\n",
       "    }\n",
       "\n",
       "    .dataframe tbody tr th {\n",
       "        vertical-align: top;\n",
       "    }\n",
       "\n",
       "    .dataframe thead th {\n",
       "        text-align: right;\n",
       "    }\n",
       "</style>\n",
       "<table border=\"1\" class=\"dataframe\">\n",
       "  <thead>\n",
       "    <tr style=\"text-align: right;\">\n",
       "      <th></th>\n",
       "      <th>similar</th>\n",
       "      <th>all</th>\n",
       "      <th>score</th>\n",
       "    </tr>\n",
       "    <tr>\n",
       "      <th>movieId</th>\n",
       "      <th></th>\n",
       "      <th></th>\n",
       "      <th></th>\n",
       "    </tr>\n",
       "  </thead>\n",
       "  <tbody>\n",
       "    <tr>\n",
       "      <th>276403</th>\n",
       "      <td>0.000075</td>\n",
       "      <td>0.000004</td>\n",
       "      <td>16.620794</td>\n",
       "    </tr>\n",
       "    <tr>\n",
       "      <th>3114</th>\n",
       "      <td>1.000000</td>\n",
       "      <td>0.100276</td>\n",
       "      <td>9.972476</td>\n",
       "    </tr>\n",
       "    <tr>\n",
       "      <th>285957</th>\n",
       "      <td>0.000050</td>\n",
       "      <td>0.000005</td>\n",
       "      <td>9.972476</td>\n",
       "    </tr>\n",
       "    <tr>\n",
       "      <th>258195</th>\n",
       "      <td>0.000050</td>\n",
       "      <td>0.000005</td>\n",
       "      <td>9.972476</td>\n",
       "    </tr>\n",
       "    <tr>\n",
       "      <th>253522</th>\n",
       "      <td>0.000050</td>\n",
       "      <td>0.000005</td>\n",
       "      <td>9.972476</td>\n",
       "    </tr>\n",
       "    <tr>\n",
       "      <th>...</th>\n",
       "      <td>...</td>\n",
       "      <td>...</td>\n",
       "      <td>...</td>\n",
       "    </tr>\n",
       "    <tr>\n",
       "      <th>601</th>\n",
       "      <td>0.000050</td>\n",
       "      <td>0.000249</td>\n",
       "      <td>0.199450</td>\n",
       "    </tr>\n",
       "    <tr>\n",
       "      <th>790</th>\n",
       "      <td>0.000050</td>\n",
       "      <td>0.000259</td>\n",
       "      <td>0.191778</td>\n",
       "    </tr>\n",
       "    <tr>\n",
       "      <th>797</th>\n",
       "      <td>0.000050</td>\n",
       "      <td>0.000269</td>\n",
       "      <td>0.184675</td>\n",
       "    </tr>\n",
       "    <tr>\n",
       "      <th>1075</th>\n",
       "      <td>0.000050</td>\n",
       "      <td>0.000294</td>\n",
       "      <td>0.169025</td>\n",
       "    </tr>\n",
       "    <tr>\n",
       "      <th>706</th>\n",
       "      <td>0.000050</td>\n",
       "      <td>0.000364</td>\n",
       "      <td>0.136609</td>\n",
       "    </tr>\n",
       "  </tbody>\n",
       "</table>\n",
       "<p>34375 rows × 3 columns</p>\n",
       "</div>"
      ],
      "text/plain": [
       "          similar       all      score\n",
       "movieId                               \n",
       "276403   0.000075  0.000004  16.620794\n",
       "3114     1.000000  0.100276   9.972476\n",
       "285957   0.000050  0.000005   9.972476\n",
       "258195   0.000050  0.000005   9.972476\n",
       "253522   0.000050  0.000005   9.972476\n",
       "...           ...       ...        ...\n",
       "601      0.000050  0.000249   0.199450\n",
       "790      0.000050  0.000259   0.191778\n",
       "797      0.000050  0.000269   0.184675\n",
       "1075     0.000050  0.000294   0.169025\n",
       "706      0.000050  0.000364   0.136609\n",
       "\n",
       "[34375 rows x 3 columns]"
      ]
     },
     "execution_count": 17,
     "metadata": {},
     "output_type": "execute_result"
    }
   ],
   "source": [
    "#creating a function to calculate scores for recommendation\n",
    "\n",
    "def scores_calculator(movie_id):\n",
    "\n",
    "    #recs from users who like the same movie\n",
    "    similar_users = final_data[(final_data['movieId']== movie_id) & (final_data['rating']>=4)]['userId'].unique()\n",
    "    similar_user_recs = final_data[(final_data['userId'].isin(similar_users)) & (final_data['rating']>=4)]['movieId']\n",
    "    similar_user_recs = similar_user_recs.value_counts() / len(similar_users)\n",
    "    #print(similar_user_recs)\n",
    "\n",
    "\n",
    "    #recs from all users who have watched the movies above\n",
    "    all_users = final_data[(final_data['movieId'].isin(similar_user_recs.index)) & (final_data['rating']>=4)]\n",
    "    all_users_recs = all_users['movieId'].value_counts() / all_users['userId'].nunique()\n",
    "    #print(all_users_recs)\n",
    "\n",
    "    genres_of_selected_movie = final_data[final_data['movieId']==movie_id]['genres_list'].unique()\n",
    "    genres_of_selected_movie = np.array2string(genres_of_selected_movie)\n",
    "    movies_with_similar_genres = search_similar_genres(genres_of_selected_movie)\n",
    "\n",
    "    \n",
    "    #multiplying movies with similar genres and similar users by a afactor of 1.5\n",
    "    indices = []\n",
    "    for index in movies_with_similar_genres[(movies_with_similar_genres['movieId'].isin(similar_user_recs.index))]['movieId']:\n",
    "        indices.append(index)\n",
    "\n",
    "    similar_user_recs.loc[indices] = similar_user_recs.loc[indices]*1.5\n",
    "\n",
    "\n",
    "    #multiplying movies with similar genres and all users by a afactor of 0.9\n",
    "    indices = []\n",
    "    for index in movies_with_similar_genres[(movies_with_similar_genres['movieId'].isin(similar_user_recs.index))]['movieId']:\n",
    "        indices.append(index)\n",
    "\n",
    "    all_users_recs.loc[indices] = all_users_recs.loc[indices]*0.9\n",
    "\n",
    "    rec_percentages = pd.concat([similar_user_recs , all_users_recs] , axis=1)\n",
    "    rec_percentages.columns = ['similar' , 'all']\n",
    "    rec_percentages['score'] = rec_percentages['similar'] / rec_percentages['all']\n",
    "\n",
    "    rec_percentages = rec_percentages.sort_values('score' , ascending=False)\n",
    "    return rec_percentages\n",
    "\n",
    "scores_calculator(3114)"
   ]
  },
  {
   "cell_type": "code",
   "execution_count": 18,
   "id": "6ecd04af-0ccf-4433-8bca-907f28a9ffff",
   "metadata": {},
   "outputs": [
    {
     "name": "stdout",
     "output_type": "stream",
     "text": [
      "Are you looking for (please choose a number): \n",
      "0 : Toy Story 2 1999\n",
      "1 : Toy Story 3 2010\n",
      "2 : Toy Story 4 2019\n",
      "3 : Toy Story 1995\n",
      "4 : Toy Story of Terror 2013\n",
      "We have the following Recommendations: \n",
      "                                              title      score  \\\n",
      "82245  Chickenhare and the Hamster of Darkness 2022  16.620794   \n",
      "3021                               Toy Story 2 1999   9.972476   \n",
      "85578                      That Kind of Summer 2022   9.972476   \n",
      "77517                      A Problem with Fear 2003   9.972476   \n",
      "76601                            Devils Island 2021   9.972476   \n",
      "76085                                   Morgue 2019   9.972476   \n",
      "79323                          Le club Vinland 2021   9.972476   \n",
      "83990                                  Goliath 2022   9.972476   \n",
      "85563    Bruno Reidal Confession of a Murderer 2022   9.972476   \n",
      "33055                  Deaf Smith  Johnny Ears 1973   9.972476   \n",
      "\n",
      "                                            genres  \n",
      "82245  Adventure Animation Children Comedy Fantasy  \n",
      "3021   Adventure Animation Children Comedy Fantasy  \n",
      "85578                                        Drama  \n",
      "77517                                 Comedy Drama  \n",
      "76601                                       Horror  \n",
      "76085                                       Horror  \n",
      "79323                                        Drama  \n",
      "83990                                     Thriller  \n",
      "85563                                        Drama  \n",
      "33055                                      Western  \n"
     ]
    }
   ],
   "source": [
    "#listing 10 movies with highest score to user\n",
    "\n",
    "def recommendation_results(user_input, title=0):\n",
    "\n",
    "    #user_input = clean_title(user_input)\n",
    "    title_candidates = search_by_title(user_input)\n",
    "    movie_id = title_candidates.iloc[title]['movieId']\n",
    "    scores = scores_calculator(movie_id)\n",
    "    results = scores.head(10).merge(movies_data, left_index=True, right_on='movieId')[['clean_title', 'score', 'genres_list']]\n",
    "    resutls = results.rename(columns={'clean_title': 'title', 'genres_list': 'genres'}, inplace=True)\n",
    "    return results\n",
    "\n",
    "\n",
    "user_input = 'Toy Story'\n",
    "print(\"Are you looking for (please choose a number): \")\n",
    "for i in range(5):\n",
    "    print(i, \":\" , search_by_title(user_input)['clean_title'].iloc[i])\n",
    "\n",
    "title = 0\n",
    "if int(title) in range(5):\n",
    "    print(\"We have the following Recommendations: \")\n",
    "    print(recommendation_results(user_input, int(title)))\n",
    "else:\n",
    "    print(\"Sorry! Could not find similar recommendations\")\n",
    "    "
   ]
  },
  {
   "cell_type": "code",
   "execution_count": 19,
   "id": "b1960c63-7a15-4ea5-be96-68c40885e988",
   "metadata": {},
   "outputs": [
    {
     "name": "stdout",
     "output_type": "stream",
     "text": [
      "Mean Squared Error (MSE): 6.713570323997582\n",
      "Root Mean Squared Error (RMSE): 2.591055831895095\n",
      "Cross-Validated RMSE: 2.591008688962836\n"
     ]
    }
   ],
   "source": [
    "from sklearn.metrics import mean_squared_error\n",
    "from sklearn.model_selection import cross_val_score, KFold\n",
    "from math import sqrt\n",
    "\n",
    "def evaluate_model(movie_id, cv=5):\n",
    "    # Calculating recommendation scores\n",
    "    rec_scores = scores_calculator(movie_id)\n",
    "\n",
    "    # Simulated true ratings: we'll assume an average rating for the sake of evaluation\n",
    "    true_ratings = np.full_like(rec_scores['score'], final_data[final_data['movieId'] == movie_id]['rating'].mean())\n",
    "\n",
    "    # Predicted ratings are derived from the recommendation scores\n",
    "    predicted_ratings = rec_scores['score'].values\n",
    "\n",
    "    # Mean Squared Error (MSE)\n",
    "    mse = mean_squared_error(true_ratings, predicted_ratings)\n",
    "    \n",
    "    # Root Mean Squared Error (RMSE)\n",
    "    rmse = sqrt(mse)\n",
    "    \n",
    "    print(f\"Mean Squared Error (MSE): {mse}\")\n",
    "    print(f\"Root Mean Squared Error (RMSE): {rmse}\")\n",
    "\n",
    "    # Cross-Validation to assess robustness\n",
    "    kf = KFold(n_splits=cv, shuffle=True, random_state=42)\n",
    "    \n",
    "    # Placeholder for cross-validation RMSE scores\n",
    "    cross_val_rmse_scores = []\n",
    "\n",
    "    for train_index, test_index in kf.split(predicted_ratings):\n",
    "        X_train, X_test = predicted_ratings[train_index], predicted_ratings[test_index]\n",
    "        y_train, y_test = true_ratings[train_index], true_ratings[test_index]\n",
    "        \n",
    "        # Since we do not have a model to fit, we'll just calculate RMSE directly\n",
    "        fold_mse = mean_squared_error(y_test, X_test)\n",
    "        fold_rmse = sqrt(fold_mse)\n",
    "        cross_val_rmse_scores.append(fold_rmse)\n",
    "    \n",
    "    cross_val_rmse = np.mean(cross_val_rmse_scores)\n",
    "    \n",
    "    print(f\"Cross-Validated RMSE: {cross_val_rmse}\")\n",
    "\n",
    "    return mse, rmse, cross_val_rmse\n",
    "\n",
    "# Example usage with a movie_id (e.g., 'Toy Story 2' with movie_id 3114)\n",
    "mse, rmse, cross_val_rmse = evaluate_model(3114)"
   ]
  },
  {
   "cell_type": "code",
   "execution_count": null,
   "id": "c73de449-ddd3-4b43-bd35-36b3148c5f83",
   "metadata": {},
   "outputs": [],
   "source": []
  }
 ],
 "metadata": {
  "kernelspec": {
   "display_name": "Python 3 (ipykernel)",
   "language": "python",
   "name": "python3"
  },
  "language_info": {
   "codemirror_mode": {
    "name": "ipython",
    "version": 3
   },
   "file_extension": ".py",
   "mimetype": "text/x-python",
   "name": "python",
   "nbconvert_exporter": "python",
   "pygments_lexer": "ipython3",
   "version": "3.12.4"
  }
 },
 "nbformat": 4,
 "nbformat_minor": 5
}
